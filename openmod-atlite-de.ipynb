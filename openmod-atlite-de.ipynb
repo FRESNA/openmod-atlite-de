{
 "cells": [
  {
   "cell_type": "code",
   "execution_count": null,
   "metadata": {
    "collapsed": false,
    "deletable": true,
    "editable": true
   },
   "outputs": [],
   "source": [
    "import atlite\n",
    "import xarray as xr\n",
    "import pandas as pd\n",
    "import scipy.sparse as sp\n",
    "import numpy as np\n",
    "\n",
    "from collections import OrderedDict"
   ]
  },
  {
   "cell_type": "code",
   "execution_count": null,
   "metadata": {
    "collapsed": false
   },
   "outputs": [],
   "source": [
    "# Two FIAS internal modules that provide some geohelper functions.\n",
    "# The vresutils package is not on github, yet, but preliminarily available at\n",
    "#\n",
    "#   http://fias.uni-frankfurt.de/~hoersch/vresutils.git\n",
    "\n",
    "from vresutils import shapes as vshapes, transfer as vtransfer"
   ]
  },
  {
   "cell_type": "code",
   "execution_count": null,
   "metadata": {
    "collapsed": false,
    "deletable": true,
    "editable": true
   },
   "outputs": [],
   "source": [
    "import matplotlib.pyplot as plt\n",
    "%matplotlib inline\n",
    "\n",
    "import seaborn as sns\n",
    "sns.set_style('ticks')\n",
    "#sns.set_context('talk')"
   ]
  },
  {
   "cell_type": "markdown",
   "metadata": {},
   "source": [
    "# Download and Extract Data-Files"
   ]
  },
  {
   "cell_type": "code",
   "execution_count": null,
   "metadata": {
    "collapsed": false
   },
   "outputs": [],
   "source": [
    "import requests\n",
    "import os\n",
    "import zipfile\n",
    "\n",
    "# variant of http://stackoverflow.com/a/16696317\n",
    "def download_file(url, local_filename):\n",
    "    if not os.path.exists(local_filename):\n",
    "        r = requests.get(url, stream=True)\n",
    "        with open(local_filename, 'wb') as f:\n",
    "            for chunk in r.iter_content(chunk_size=1024): \n",
    "                if chunk:\n",
    "                    f.write(chunk)\n",
    "    return local_filename\n",
    "\n",
    "opsd_fn = download_file('http://data.open-power-system-data.org/index.php?package=time_series&version=2017-03-06&action=customDownload&resource=1&filter%5B_contentfilter_utc_timestamp%5D%5Bfrom%5D=2012-01-01&filter%5B_contentfilter_utc_timestamp%5D%5Bto%5D=2013-01-01&filter%5BRegion%5D%5B%5D=DE&filter%5BVariable%5D%5B%5D=solar&filter%5BVariable%5D%5B%5D=wind&filter%5BAttribute%5D%5B%5D=generation&downloadCSV=Download+CSV',\n",
    "                        'data/time_series_60min_singleindex_filtered.csv')\n",
    "\n",
    "eeg_fn = download_file('http://www.energymap.info/download/eeg_anlagenregister_2015.08.utf8.csv.zip',\n",
    "                        'data/eeg_anlagenregister_2015.08.utf8.csv.zip')\n",
    "\n",
    "with zipfile.ZipFile(eeg_fn, \"r\") as zip_ref:\n",
    "    zip_ref.extractall(\"data\")\n",
    "\n",
    "cutout_fn = download_file('http://fias.uni-frankfurt.de/~hoersch/data/germany-2012.zip',\n",
    "                          'data/germany-2012.zip')\n",
    "with zipfile.ZipFile(cutout_fn, \"r\") as zip_ref:\n",
    "    zip_ref.extractall(\"cutouts\")"
   ]
  },
  {
   "cell_type": "code",
   "execution_count": null,
   "metadata": {
    "collapsed": false,
    "deletable": true,
    "editable": true
   },
   "outputs": [],
   "source": [
    "opsd = pd.read_csv(opsd_fn, parse_dates=True, index_col=0)"
   ]
  },
  {
   "cell_type": "markdown",
   "metadata": {
    "deletable": true,
    "editable": true
   },
   "source": [
    "# Create cutout"
   ]
  },
  {
   "cell_type": "markdown",
   "metadata": {},
   "source": [
    "Needs the monthly files for the CFSv2 datasets available at the directory `atlite.config.ncep_dir` in a specific undocumented directory structure. For now this section is just here as an illustration."
   ]
  },
  {
   "cell_type": "markdown",
   "metadata": {
    "collapsed": false,
    "deletable": true,
    "editable": true,
    "scrolled": true
   },
   "source": [
    "```python\n",
    "de = vshapes.germany()\n",
    "x1, y1, x2, y2 = de.bounds\n",
    "```"
   ]
  },
  {
   "cell_type": "markdown",
   "metadata": {
    "collapsed": false,
    "deletable": true,
    "editable": true
   },
   "source": [
    "```python\n",
    "cutout = atlite.Cutout('germany-2012',\n",
    "                       module='ncep', cutout_dir='cutouts',\n",
    "                       xs=slice(x1 - 0.2, x2 + 0.2), ys=slice(y2 + 0.2, y1 - 0.2),\n",
    "                       years=slice(2012, 2012))\n",
    "```"
   ]
  },
  {
   "cell_type": "markdown",
   "metadata": {
    "collapsed": false,
    "deletable": true,
    "editable": true,
    "scrolled": true
   },
   "source": [
    "```python\n",
    "%%time\n",
    "cutout.prepare()\n",
    "```\n",
    "(The runtime is about 15min)"
   ]
  },
  {
   "cell_type": "markdown",
   "metadata": {
    "deletable": true,
    "editable": true
   },
   "source": [
    "# Creating time-series\n"
   ]
  },
  {
   "cell_type": "code",
   "execution_count": null,
   "metadata": {
    "collapsed": false,
    "deletable": true,
    "editable": true
   },
   "outputs": [],
   "source": [
    "cutout = atlite.Cutout('germany-2012', cutout_dir='cutouts')"
   ]
  },
  {
   "cell_type": "code",
   "execution_count": null,
   "metadata": {
    "collapsed": false
   },
   "outputs": [],
   "source": [
    "def postcodes2gridcells(cutout):\n",
    "    postcodes = pd.Series(vshapes.postcodeareas()).dropna()\n",
    "    grid_cells = cutout.grid_cells()\n",
    "    return postcodes.index, vtransfer.Shapes2Shapes(np.asarray(postcodes), grid_cells)"
   ]
  },
  {
   "cell_type": "code",
   "execution_count": null,
   "metadata": {
    "collapsed": false
   },
   "outputs": [],
   "source": [
    "%%time\n",
    "postcodes, posttransfer = postcodes2gridcells(cutout)"
   ]
  },
  {
   "cell_type": "code",
   "execution_count": null,
   "metadata": {
    "collapsed": false,
    "deletable": true,
    "editable": true
   },
   "outputs": [],
   "source": [
    "def capacity_layout(cutout, typ, bins=None, until=None,\n",
    "                    eeg_fn='data/eeg_anlagenregister_2015.08.utf8.csv'):\n",
    "    cols = OrderedDict((('installation_date', 0),\n",
    "                        ('plz', 2), ('city', 3),\n",
    "                        ('type', 6),\n",
    "                        ('capacity', 8), ('level', 9),\n",
    "                        ('lat', 19), ('lon', 20),\n",
    "                        ('validation', 22)))\n",
    "    data = pd.read_csv(eeg_fn,\n",
    "                       sep=';', decimal=',', thousands='.',\n",
    "                       comment='#', header=None,\n",
    "                       usecols=list(cols.values()),\n",
    "                       names=list(cols.keys()),\n",
    "                       dtype={'installation_date': str},\n",
    "                       na_values=('O04WF', 'keine'))\n",
    "\n",
    "    # Only those installations of the correct type which passed validation and specify a plz\n",
    "    data = data[(data.type == typ) & (data.validation == 'OK') &\n",
    "                (~ data.plz.isnull())]\n",
    "    \n",
    "    if until is not None:\n",
    "        data = data[pd.to_datetime(data.installation_date, format='%d.%m.%Y') <= str(until)]\n",
    "\n",
    "    if bins is not None:\n",
    "        aggregated_capacity = data.capacity.groupby([data.plz, pd.cut(data.capacity, bins, labels=False)]).sum().unstack()\n",
    "        shape = (-1,) + cutout.shape\n",
    "    else:\n",
    "        aggregated_capacity = data.capacity.groupby(data.plz).sum()\n",
    "        shape = cutout.shape\n",
    "\n",
    "    capacity_layout = posttransfer.dot(aggregated_capacity.reindex(postcodes).fillna(0.)).T.reshape(shape)\n",
    "\n",
    "    return capacity_layout / 1e3 # capacity in MW"
   ]
  },
  {
   "cell_type": "markdown",
   "metadata": {
    "deletable": true,
    "editable": true
   },
   "source": [
    "## Solar"
   ]
  },
  {
   "cell_type": "code",
   "execution_count": null,
   "metadata": {
    "collapsed": false,
    "deletable": true,
    "editable": true
   },
   "outputs": [],
   "source": [
    "layout = capacity_layout(cutout, 'Solarstrom', until=2012)"
   ]
  },
  {
   "cell_type": "code",
   "execution_count": null,
   "metadata": {
    "collapsed": false,
    "deletable": true,
    "editable": true
   },
   "outputs": [],
   "source": [
    "plt.imshow(layout.T, extent=cutout.extent, interpolation='None')\n",
    "plt.colorbar()\n",
    "plt.title('Solar capacities / MW')\n",
    "plt.tight_layout()"
   ]
  },
  {
   "cell_type": "code",
   "execution_count": null,
   "metadata": {
    "collapsed": false,
    "deletable": true,
    "editable": true
   },
   "outputs": [],
   "source": [
    "capacity_per_unit = atlite.resource.solarpanel_rated_capacity_per_unit(\"Sunpower\")"
   ]
  },
  {
   "cell_type": "code",
   "execution_count": null,
   "metadata": {
    "collapsed": false,
    "deletable": true,
    "editable": true
   },
   "outputs": [],
   "source": [
    "%%time\n",
    "pv = cutout.pv(panel=\"Sunpower\", orientation={'slope': 30., 'azimuth': 0.},\n",
    "               layout=layout / capacity_per_unit)"
   ]
  },
  {
   "cell_type": "code",
   "execution_count": null,
   "metadata": {
    "collapsed": false,
    "deletable": true,
    "editable": true
   },
   "outputs": [],
   "source": [
    "pv_df = pd.DataFrame(dict(atlite=pv.sel(dim_0=0).to_pandas(),\n",
    "                          opsd=opsd['DE_solar_generation'])) / 1e3"
   ]
  },
  {
   "cell_type": "code",
   "execution_count": null,
   "metadata": {
    "collapsed": false,
    "deletable": true,
    "editable": true
   },
   "outputs": [],
   "source": [
    "pv_df.resample('1W').mean().plot.line()\n",
    "plt.ylabel('DE PV Feed-in [GW]')"
   ]
  },
  {
   "cell_type": "code",
   "execution_count": null,
   "metadata": {
    "collapsed": false,
    "deletable": true,
    "editable": true
   },
   "outputs": [],
   "source": [
    "pv_df.loc[\"2012-04\"].plot()\n",
    "plt.ylabel('DE PV Feed-in [GW]')"
   ]
  },
  {
   "cell_type": "code",
   "execution_count": null,
   "metadata": {
    "collapsed": false,
    "deletable": true,
    "editable": true
   },
   "outputs": [],
   "source": [
    "pv_df.plot(x='atlite', y='opsd', kind='scatter').set_aspect('equal')"
   ]
  },
  {
   "cell_type": "code",
   "execution_count": null,
   "metadata": {
    "collapsed": false,
    "deletable": true,
    "editable": true
   },
   "outputs": [],
   "source": [
    "pv_df['atlite'].sort_values(ascending=False).reset_index(drop=True).plot()\n",
    "pv_df['opsd'].sort_values(ascending=False).reset_index(drop=True).plot()\n",
    "plt.legend()\n",
    "plt.title('Duration curves')"
   ]
  },
  {
   "cell_type": "markdown",
   "metadata": {},
   "source": [
    "## Wind"
   ]
  },
  {
   "cell_type": "code",
   "execution_count": null,
   "metadata": {
    "collapsed": false,
    "deletable": true,
    "editable": true
   },
   "outputs": [],
   "source": [
    "turbines = pd.DataFrame([\n",
    "        dict(name='Vestas_V25_200kW', bin=400.),\n",
    "        dict(name='Vestas_V47_660kW', bin=700.),\n",
    "        dict(name='Bonus_B1000_1000kW', bin=1100.),\n",
    "        dict(name='Suzlon_S82_1.5_MW', bin=1600.),\n",
    "        dict(name='Vestas_V66_1750kW', bin=1900.),\n",
    "        dict(name='Vestas_V80_2MW_gridstreamer', bin=2200.),\n",
    "        dict(name='Siemens_SWT_2300kW', bin=2500.),\n",
    "        dict(name='Vestas_V90_3MW', bin=50000.)\n",
    "    ]\n",
    ")"
   ]
  },
  {
   "cell_type": "code",
   "execution_count": null,
   "metadata": {
    "collapsed": false,
    "deletable": true,
    "editable": true
   },
   "outputs": [],
   "source": [
    "layouts = capacity_layout(cutout, 'Windkraft',\n",
    "                          bins=np.r_[0, turbines[\"bin\"]],\n",
    "                          until=2012)"
   ]
  },
  {
   "cell_type": "code",
   "execution_count": null,
   "metadata": {
    "collapsed": false,
    "deletable": true,
    "editable": true
   },
   "outputs": [],
   "source": [
    "%%time\n",
    "wind = sum(\n",
    "    cutout.wind(turbine=t.name,\n",
    "                layout=l / atlite.resource.windturbine_rated_capacity_per_unit(t.name))\n",
    "    for t, l in zip(turbines.itertuples(), layouts)\n",
    ")"
   ]
  },
  {
   "cell_type": "code",
   "execution_count": null,
   "metadata": {
    "collapsed": false,
    "deletable": true,
    "editable": true
   },
   "outputs": [],
   "source": [
    "wind_df = pd.DataFrame(dict(atlite=wind.sel(dim_0=0).to_pandas(),\n",
    "                            opsd=opsd['DE_wind_generation']))"
   ]
  },
  {
   "cell_type": "code",
   "execution_count": null,
   "metadata": {
    "collapsed": false
   },
   "outputs": [],
   "source": [
    "wind_df.resample('1W').mean().plot.line()\n",
    "plt.ylabel('DE Wind Feed-in [GW]')"
   ]
  },
  {
   "cell_type": "code",
   "execution_count": null,
   "metadata": {
    "collapsed": false,
    "deletable": true,
    "editable": true
   },
   "outputs": [],
   "source": [
    "wind_df.loc[\"2012-04\"].plot()\n",
    "plt.ylabel('DE Wind Feed-in [GW]')"
   ]
  },
  {
   "cell_type": "code",
   "execution_count": null,
   "metadata": {
    "collapsed": false
   },
   "outputs": [],
   "source": [
    "wind_df.plot(x='atlite', y='opsd', kind='scatter').set_aspect('equal')"
   ]
  },
  {
   "cell_type": "code",
   "execution_count": null,
   "metadata": {
    "collapsed": false,
    "deletable": true,
    "editable": true,
    "scrolled": false
   },
   "outputs": [],
   "source": [
    "wind_df['atlite'].sort_values(ascending=False).reset_index(drop=True).plot()\n",
    "wind_df['opsd'].sort_values(ascending=False).reset_index(drop=True).plot()\n",
    "plt.legend()\n",
    "plt.title('Duration curves')"
   ]
  },
  {
   "cell_type": "markdown",
   "metadata": {},
   "source": [
    "## Splitting time-series into shapes"
   ]
  },
  {
   "cell_type": "code",
   "execution_count": null,
   "metadata": {
    "collapsed": false,
    "deletable": true,
    "editable": true
   },
   "outputs": [],
   "source": [
    "laender = pd.Series(vshapes.laender())\n",
    "laender.index = laender.index.rename('land')"
   ]
  },
  {
   "cell_type": "code",
   "execution_count": null,
   "metadata": {
    "collapsed": false
   },
   "outputs": [],
   "source": [
    "print(type(laender['BY']))\n",
    "laender['BY']"
   ]
  },
  {
   "cell_type": "code",
   "execution_count": null,
   "metadata": {
    "collapsed": false,
    "deletable": true,
    "editable": true
   },
   "outputs": [],
   "source": [
    "%%time\n",
    "pv = cutout.pv(panel=\"Sunpower\", orientation={'slope': 30., 'azimuth': 0.},\n",
    "               shapes=laender,\n",
    "               layout=layout / capacity_per_unit)"
   ]
  },
  {
   "cell_type": "code",
   "execution_count": null,
   "metadata": {
    "collapsed": false
   },
   "outputs": [],
   "source": [
    "pv.sel(land=['BB', 'BY']).T.to_pandas().resample('1W').mean().plot()"
   ]
  },
  {
   "cell_type": "code",
   "execution_count": null,
   "metadata": {
    "collapsed": false
   },
   "outputs": [],
   "source": []
  }
 ],
 "metadata": {
  "hide_input": false,
  "kernelspec": {
   "display_name": "Python 2",
   "language": "python",
   "name": "python2"
  },
  "language_info": {
   "codemirror_mode": {
    "name": "ipython",
    "version": 2
   },
   "file_extension": ".py",
   "mimetype": "text/x-python",
   "name": "python",
   "nbconvert_exporter": "python",
   "pygments_lexer": "ipython2",
   "version": "2.7.13"
  },
  "nav_menu": {},
  "toc": {
   "navigate_menu": true,
   "number_sections": true,
   "sideBar": false,
   "threshold": 6,
   "toc_cell": false,
   "toc_section_display": "block",
   "toc_window_display": false
  }
 },
 "nbformat": 4,
 "nbformat_minor": 1
}